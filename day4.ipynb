{
  "nbformat": 4,
  "nbformat_minor": 0,
  "metadata": {
    "colab": {
      "provenance": [],
      "authorship_tag": "ABX9TyMa5tCRrDUez5d9jg7DqqCW",
      "include_colab_link": true
    },
    "kernelspec": {
      "name": "python3",
      "display_name": "Python 3"
    },
    "language_info": {
      "name": "python"
    }
  },
  "cells": [
    {
      "cell_type": "markdown",
      "metadata": {
        "id": "view-in-github",
        "colab_type": "text"
      },
      "source": [
        "<a href=\"https://colab.research.google.com/github/puji2004-oss/training/blob/main/day4.ipynb\" target=\"_parent\"><img src=\"https://colab.research.google.com/assets/colab-badge.svg\" alt=\"Open In Colab\"/></a>"
      ]
    },
    {
      "cell_type": "code",
      "execution_count": 1,
      "metadata": {
        "colab": {
          "base_uri": "https://localhost:8080/"
        },
        "id": "DKnS_Y1XYW2O",
        "outputId": "6fe06bf3-48d5-40c6-83fa-1cdb521a6df0"
      },
      "outputs": [
        {
          "output_type": "stream",
          "name": "stdout",
          "text": [
            "Enter a positive integer n: 4\n",
            "The sum of all even numbers between 1 and 4 is 6\n"
          ]
        }
      ],
      "source": [
        "# Input the positive integer n\n",
        "n = int(input(\"Enter a positive integer n: \"))\n",
        "\n",
        "# Initialize the sum variable\n",
        "even_sum = 0\n",
        "\n",
        "# Calculate the sum of even numbers between 1 and n\n",
        "for i in range(2, n+1, 2):\n",
        "    even_sum += i\n",
        "\n",
        "# Print the result\n",
        "print(f\"The sum of all even numbers between 1 and {n} is {even_sum}\")\n"
      ]
    }
  ]
}
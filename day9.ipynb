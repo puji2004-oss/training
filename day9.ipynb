{
  "nbformat": 4,
  "nbformat_minor": 0,
  "metadata": {
    "colab": {
      "provenance": [],
      "authorship_tag": "ABX9TyPHlm1Zl54Puncz6MaldXJx",
      "include_colab_link": true
    },
    "kernelspec": {
      "name": "python3",
      "display_name": "Python 3"
    },
    "language_info": {
      "name": "python"
    }
  },
  "cells": [
    {
      "cell_type": "markdown",
      "metadata": {
        "id": "view-in-github",
        "colab_type": "text"
      },
      "source": [
        "<a href=\"https://colab.research.google.com/github/puji2004-oss/training/blob/main/day9.ipynb\" target=\"_parent\"><img src=\"https://colab.research.google.com/assets/colab-badge.svg\" alt=\"Open In Colab\"/></a>"
      ]
    },
    {
      "cell_type": "code",
      "execution_count": 1,
      "metadata": {
        "colab": {
          "base_uri": "https://localhost:8080/"
        },
        "id": "wuU8DRg3ciXF",
        "outputId": "ff0f02ec-b821-4966-ca05-9d88d345fdc2"
      },
      "outputs": [
        {
          "output_type": "stream",
          "name": "stdout",
          "text": [
            "hello world welcome to nlp 101\n"
          ]
        }
      ],
      "source": [
        "import re\n",
        "\n",
        "def clean_text(text):\n",
        "    # Remove special characters using regular expressions\n",
        "    cleaned_text = re.sub(r'[^A-Za-z0-9\\s]', '', text)\n",
        "    # Convert to lowercase\n",
        "    cleaned_text = cleaned_text.lower()\n",
        "    return cleaned_text\n",
        "\n",
        "# Test the function\n",
        "input_text = 'Hello, World! Welcome to NLP 101.'\n",
        "cleaned_text = clean_text(input_text)\n",
        "print(cleaned_text)\n",
        "\n"
      ]
    }
  ]
}
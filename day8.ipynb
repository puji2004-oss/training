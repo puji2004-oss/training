{
  "nbformat": 4,
  "nbformat_minor": 0,
  "metadata": {
    "colab": {
      "provenance": [],
      "authorship_tag": "ABX9TyN1fbnSxEAVtqohM92GiRXL",
      "include_colab_link": true
    },
    "kernelspec": {
      "name": "python3",
      "display_name": "Python 3"
    },
    "language_info": {
      "name": "python"
    }
  },
  "cells": [
    {
      "cell_type": "markdown",
      "metadata": {
        "id": "view-in-github",
        "colab_type": "text"
      },
      "source": [
        "<a href=\"https://colab.research.google.com/github/puji2004-oss/training/blob/main/day8.ipynb\" target=\"_parent\"><img src=\"https://colab.research.google.com/assets/colab-badge.svg\" alt=\"Open In Colab\"/></a>"
      ]
    },
    {
      "cell_type": "code",
      "source": [
        "import nltk\n",
        "from nltk.tokenize import word_tokenize, sent_tokenize\n",
        "\n",
        "# Download the 'punkt_tab' data package\n",
        "nltk.download('punkt_tab')\n",
        "\n",
        "# Sample paragraph\n",
        "paragraph = \"\"\"Artificial Intelligence (AI) has revolutionized the way we interact with technology.\n",
        "From voice assistants to self-driving cars, AI is making strides in various fields.\n",
        "It's an exciting time to be involved in the world of AI.\"\"\"\n",
        "\n",
        "# Tokenize into sentences\n",
        "sentences = sent_tokenize(paragraph)\n",
        "print(\"Sentences:\")\n",
        "print(sentences)\n",
        "\n",
        "# Tokenize into words\n",
        "words = word_tokenize(paragraph)\n",
        "print(\"\\nWords:\")\n",
        "print(words)\n"
      ],
      "metadata": {
        "colab": {
          "base_uri": "https://localhost:8080/"
        },
        "id": "U3qxq_iPcAA8",
        "outputId": "0421797e-b333-418f-c658-67e9216573d4"
      },
      "execution_count": 2,
      "outputs": [
        {
          "output_type": "stream",
          "name": "stderr",
          "text": [
            "[nltk_data] Downloading package punkt_tab to /root/nltk_data...\n",
            "[nltk_data]   Unzipping tokenizers/punkt_tab.zip.\n"
          ]
        },
        {
          "output_type": "stream",
          "name": "stdout",
          "text": [
            "Sentences:\n",
            "['Artificial Intelligence (AI) has revolutionized the way we interact with technology.', 'From voice assistants to self-driving cars, AI is making strides in various fields.', \"It's an exciting time to be involved in the world of AI.\"]\n",
            "\n",
            "Words:\n",
            "['Artificial', 'Intelligence', '(', 'AI', ')', 'has', 'revolutionized', 'the', 'way', 'we', 'interact', 'with', 'technology', '.', 'From', 'voice', 'assistants', 'to', 'self-driving', 'cars', ',', 'AI', 'is', 'making', 'strides', 'in', 'various', 'fields', '.', 'It', \"'s\", 'an', 'exciting', 'time', 'to', 'be', 'involved', 'in', 'the', 'world', 'of', 'AI', '.']\n"
          ]
        }
      ]
    }
  ]
}
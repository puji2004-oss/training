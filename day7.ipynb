{
  "nbformat": 4,
  "nbformat_minor": 0,
  "metadata": {
    "colab": {
      "provenance": [],
      "authorship_tag": "ABX9TyP7YVQiNm9SXmOFE4fWCZ1n",
      "include_colab_link": true
    },
    "kernelspec": {
      "name": "python3",
      "display_name": "Python 3"
    },
    "language_info": {
      "name": "python"
    }
  },
  "cells": [
    {
      "cell_type": "markdown",
      "metadata": {
        "id": "view-in-github",
        "colab_type": "text"
      },
      "source": [
        "<a href=\"https://colab.research.google.com/github/puji2004-oss/training/blob/main/day7.ipynb\" target=\"_parent\"><img src=\"https://colab.research.google.com/assets/colab-badge.svg\" alt=\"Open In Colab\"/></a>"
      ]
    },
    {
      "cell_type": "code",
      "source": [
        "import gensim\n",
        "from gensim.utils import simple_preprocess\n",
        "from gensim.parsing.preprocessing import STOPWORDS\n",
        "from nltk.stem import SnowballStemmer\n",
        "from nltk.stem import WordNetLemmatizer\n",
        "from nltk.corpus import wordnet\n",
        "import nltk\n",
        "import os\n",
        "\n",
        "# Download NLTK data\n",
        "nltk.download('wordnet')\n",
        "nltk.download('omw-1.4')\n",
        "\n",
        "# Define stemmer\n",
        "stemmer = SnowballStemmer(\"english\")\n",
        "\n",
        "# Define lemmatizer\n",
        "lemmatizer = WordNetLemmatizer()\n",
        "\n",
        "# Function to get part of speech tag\n",
        "def get_pos(word):\n",
        "    pos = nltk.pos_tag([word])[0][1][0].upper()\n",
        "    pos_dict = {\"J\": wordnet.ADJ, \"N\": wordnet.NOUN, \"V\": wordnet.VERB, \"R\": wordnet.ADV}\n",
        "    return pos_dict.get(pos, wordnet.NOUN)\n",
        "\n",
        "# Function to preprocess text\n",
        "def preprocess(text):\n",
        "    result = []\n",
        "    for token in gensim.utils.simple_preprocess(text):\n",
        "        if token not in STOPWORDS and len(token) > 3:\n",
        "            # Stemming\n",
        "            stemmed_token = stemmer.stem(token)\n",
        "            # Lemmatization\n",
        "            lemmatized_token = lemmatizer.lemmatize(stemmed_token, get_pos(stemmed_token))\n",
        "            result.append(lemmatized_token)\n",
        "    return result\n",
        "\n",
        "# Get the current working directory\n",
        "current_directory = os.getcwd()\n",
        "print(f\"Current working directory: {current_directory}\")\n",
        "\n",
        "# Construct the file path\n",
        "file_path = os.path.join(current_directory, 'sample.txt')\n",
        "\n",
        "# Check if the file exists\n",
        "if os.path.exists(file_path):\n",
        "    # Read sample text file\n",
        "    with open(file_path, 'r', encoding='utf-8') as file:\n",
        "        text = file.read()\n",
        "\n",
        "    # Preprocess text\n",
        "    processed_text = preprocess(text)\n",
        "\n",
        "    print(processed_text)\n",
        "else:\n",
        "    print(f\"Error: The file 'sample.txt' was not found in the current directory: {current_directory}\")\n",
        "    print(\"Please ensure the file exists or provide the correct file path.\")"
      ],
      "metadata": {
        "colab": {
          "base_uri": "https://localhost:8080/"
        },
        "id": "J6x4WOOna3b_",
        "outputId": "8c713f24-d2fd-4f40-dd15-8832aa24c0c9"
      },
      "execution_count": 2,
      "outputs": [
        {
          "output_type": "stream",
          "name": "stdout",
          "text": [
            "Current working directory: /content\n",
            "Error: The file 'sample.txt' was not found in the current directory: /content\n",
            "Please ensure the file exists or provide the correct file path.\n"
          ]
        },
        {
          "output_type": "stream",
          "name": "stderr",
          "text": [
            "[nltk_data] Downloading package wordnet to /root/nltk_data...\n",
            "[nltk_data]   Package wordnet is already up-to-date!\n",
            "[nltk_data] Downloading package omw-1.4 to /root/nltk_data...\n",
            "[nltk_data]   Package omw-1.4 is already up-to-date!\n"
          ]
        }
      ]
    }
  ]
}
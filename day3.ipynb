{
  "nbformat": 4,
  "nbformat_minor": 0,
  "metadata": {
    "colab": {
      "provenance": [],
      "authorship_tag": "ABX9TyOhcwgtWEmn74cneWjVlTvn",
      "include_colab_link": true
    },
    "kernelspec": {
      "name": "python3",
      "display_name": "Python 3"
    },
    "language_info": {
      "name": "python"
    }
  },
  "cells": [
    {
      "cell_type": "markdown",
      "metadata": {
        "id": "view-in-github",
        "colab_type": "text"
      },
      "source": [
        "<a href=\"https://colab.research.google.com/github/puji2004-oss/training/blob/main/day3.ipynb\" target=\"_parent\"><img src=\"https://colab.research.google.com/assets/colab-badge.svg\" alt=\"Open In Colab\"/></a>"
      ]
    },
    {
      "cell_type": "code",
      "execution_count": 1,
      "metadata": {
        "colab": {
          "base_uri": "https://localhost:8080/"
        },
        "id": "l_ynBUZ8Wn7t",
        "outputId": "99ec1fda-3c01-4f4a-b56a-706570f5b3c8"
      },
      "outputs": [
        {
          "output_type": "stream",
          "name": "stdout",
          "text": [
            "Marks 1: 80\n",
            "Marks 2: 60\n",
            "Marks 3: 70\n",
            "Grade: C\n"
          ]
        }
      ],
      "source": [
        "# Input marks for three subjects\n",
        "m1, m2, m3 = float(input(\"Marks 1: \")), float(input(\"Marks 2: \")), float(input(\"Marks 3: \"))\n",
        "\n",
        "# Calculate average\n",
        "avg = (m1 + m2 + m3) / 3\n",
        "\n",
        "# Determine grade\n",
        "if avg >= 90:\n",
        "    grade = \"A\"\n",
        "elif avg >= 80:\n",
        "    grade = \"B\"\n",
        "elif avg >= 70:\n",
        "    grade = \"C\"\n",
        "else:\n",
        "    grade = \"Fail\"\n",
        "\n",
        "# Print grade\n",
        "print(f\"Grade: {grade}\")\n"
      ]
    }
  ]
}
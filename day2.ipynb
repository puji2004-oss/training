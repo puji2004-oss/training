{
  "nbformat": 4,
  "nbformat_minor": 0,
  "metadata": {
    "colab": {
      "provenance": [],
      "authorship_tag": "ABX9TyMLL8Fw/MPkVhdHbzicoi2a",
      "include_colab_link": true
    },
    "kernelspec": {
      "name": "python3",
      "display_name": "Python 3"
    },
    "language_info": {
      "name": "python"
    }
  },
  "cells": [
    {
      "cell_type": "markdown",
      "metadata": {
        "id": "view-in-github",
        "colab_type": "text"
      },
      "source": [
        "<a href=\"https://colab.research.google.com/github/puji2004-oss/training/blob/main/day2.ipynb\" target=\"_parent\"><img src=\"https://colab.research.google.com/assets/colab-badge.svg\" alt=\"Open In Colab\"/></a>"
      ]
    },
    {
      "cell_type": "code",
      "execution_count": 1,
      "metadata": {
        "colab": {
          "base_uri": "https://localhost:8080/"
        },
        "id": "lLuOvfUYVHp9",
        "outputId": "e967f6d7-f831-48cb-c854-4654ae4fb252"
      },
      "outputs": [
        {
          "output_type": "stream",
          "name": "stdout",
          "text": [
            "List: [1, 2, 3, 4, 5]\n",
            "First element: 1\n",
            "Second element: 2\n",
            "Last element: 5\n"
          ]
        }
      ],
      "source": [
        "# Create a list with 5 elements\n",
        "my_list = [1, 2, 3, 4, 5]\n",
        "\n",
        "# Access elements based on index\n",
        "first_element = my_list[0]\n",
        "second_element = my_list[1]\n",
        "last_element = my_list[-1]\n",
        "\n",
        "# Print elements\n",
        "print(\"List:\", my_list)\n",
        "print(\"First element:\", first_element)\n",
        "print(\"Second element:\", second_element)\n",
        "print(\"Last element:\", last_element)\n",
        "\n"
      ]
    }
  ]
}